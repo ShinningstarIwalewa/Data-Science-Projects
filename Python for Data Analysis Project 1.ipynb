{
 "cells": [
  {
   "cell_type": "code",
   "execution_count": null,
   "id": "0e34c90c",
   "metadata": {},
   "outputs": [],
   "source": [
    "# Python for Data Analytics project 1"
   ]
  },
  {
   "cell_type": "code",
   "execution_count": 2,
   "id": "e29f907f",
   "metadata": {},
   "outputs": [],
   "source": [
    "import pandas as pd\n",
    "import numpy as np"
   ]
  },
  {
   "cell_type": "code",
   "execution_count": 3,
   "id": "63706eef",
   "metadata": {},
   "outputs": [
    {
     "data": {
      "text/html": [
       "<div>\n",
       "<style scoped>\n",
       "    .dataframe tbody tr th:only-of-type {\n",
       "        vertical-align: middle;\n",
       "    }\n",
       "\n",
       "    .dataframe tbody tr th {\n",
       "        vertical-align: top;\n",
       "    }\n",
       "\n",
       "    .dataframe thead th {\n",
       "        text-align: right;\n",
       "    }\n",
       "</style>\n",
       "<table border=\"1\" class=\"dataframe\">\n",
       "  <thead>\n",
       "    <tr style=\"text-align: right;\">\n",
       "      <th></th>\n",
       "      <th>name</th>\n",
       "      <th>relationship</th>\n",
       "      <th>Age</th>\n",
       "      <th>Department</th>\n",
       "    </tr>\n",
       "  </thead>\n",
       "  <tbody>\n",
       "    <tr>\n",
       "      <th>0</th>\n",
       "      <td>Safwana</td>\n",
       "      <td>Single</td>\n",
       "      <td>15</td>\n",
       "      <td>English</td>\n",
       "    </tr>\n",
       "    <tr>\n",
       "      <th>1</th>\n",
       "      <td>Salman</td>\n",
       "      <td>Married</td>\n",
       "      <td>23</td>\n",
       "      <td>Maths</td>\n",
       "    </tr>\n",
       "    <tr>\n",
       "      <th>2</th>\n",
       "      <td>Tayo</td>\n",
       "      <td>Married</td>\n",
       "      <td>39</td>\n",
       "      <td>Biology</td>\n",
       "    </tr>\n",
       "    <tr>\n",
       "      <th>3</th>\n",
       "      <td>Olu</td>\n",
       "      <td>Single</td>\n",
       "      <td>54</td>\n",
       "      <td>Maths</td>\n",
       "    </tr>\n",
       "    <tr>\n",
       "      <th>4</th>\n",
       "      <td>Sofiyyah</td>\n",
       "      <td>Married</td>\n",
       "      <td>27</td>\n",
       "      <td>Biology</td>\n",
       "    </tr>\n",
       "    <tr>\n",
       "      <th>5</th>\n",
       "      <td>Iwa</td>\n",
       "      <td>Single</td>\n",
       "      <td>25</td>\n",
       "      <td>English</td>\n",
       "    </tr>\n",
       "    <tr>\n",
       "      <th>6</th>\n",
       "      <td>Lewa</td>\n",
       "      <td>Married</td>\n",
       "      <td>27</td>\n",
       "      <td>Maths</td>\n",
       "    </tr>\n",
       "    <tr>\n",
       "      <th>7</th>\n",
       "      <td>Ope</td>\n",
       "      <td>Single</td>\n",
       "      <td>28</td>\n",
       "      <td>Biology</td>\n",
       "    </tr>\n",
       "    <tr>\n",
       "      <th>8</th>\n",
       "      <td>Kunle</td>\n",
       "      <td>Single</td>\n",
       "      <td>29</td>\n",
       "      <td>Maths</td>\n",
       "    </tr>\n",
       "    <tr>\n",
       "      <th>9</th>\n",
       "      <td>Bilal</td>\n",
       "      <td>Single</td>\n",
       "      <td>30</td>\n",
       "      <td>Biology</td>\n",
       "    </tr>\n",
       "  </tbody>\n",
       "</table>\n",
       "</div>"
      ],
      "text/plain": [
       "       name relationship  Age Department\n",
       "0   Safwana       Single   15    English\n",
       "1    Salman      Married   23      Maths\n",
       "2      Tayo      Married   39    Biology\n",
       "3       Olu       Single   54      Maths\n",
       "4  Sofiyyah      Married   27    Biology\n",
       "5       Iwa       Single   25    English\n",
       "6      Lewa      Married   27      Maths\n",
       "7       Ope       Single   28    Biology\n",
       "8     Kunle       Single   29      Maths\n",
       "9     Bilal       Single   30    Biology"
      ]
     },
     "execution_count": 3,
     "metadata": {},
     "output_type": "execute_result"
    }
   ],
   "source": [
    "Student = {'name':['Safwana','Salman','Tayo','Olu','Sofiyyah','Iwa','Lewa','Ope','Kunle','Bilal'],\n",
    "           'relationship':['Single','Married','Married','Single','Married','Single','Married','Single','Single','Single'],\n",
    "           'Age':[15, 23, 39, 54, 27, 25, 27, 28, 29, 30,],\n",
    "           'Department':['English','Maths','Biology','Maths','Biology','English','Maths','Biology','Maths','Biology']\n",
    "          }\n",
    "Studentser=pd.DataFrame(Student)\n",
    "Studentser\n"
   ]
  },
  {
   "cell_type": "code",
   "execution_count": 38,
   "id": "f742f18d",
   "metadata": {},
   "outputs": [
    {
     "data": {
      "text/html": [
       "<div>\n",
       "<style scoped>\n",
       "    .dataframe tbody tr th:only-of-type {\n",
       "        vertical-align: middle;\n",
       "    }\n",
       "\n",
       "    .dataframe tbody tr th {\n",
       "        vertical-align: top;\n",
       "    }\n",
       "\n",
       "    .dataframe thead th {\n",
       "        text-align: right;\n",
       "    }\n",
       "</style>\n",
       "<table border=\"1\" class=\"dataframe\">\n",
       "  <thead>\n",
       "    <tr style=\"text-align: right;\">\n",
       "      <th></th>\n",
       "      <th>name</th>\n",
       "      <th>relationship</th>\n",
       "      <th>Age</th>\n",
       "      <th>Department</th>\n",
       "    </tr>\n",
       "  </thead>\n",
       "  <tbody>\n",
       "    <tr>\n",
       "      <th>0</th>\n",
       "      <td>Safwana</td>\n",
       "      <td>Single</td>\n",
       "      <td>15</td>\n",
       "      <td>English</td>\n",
       "    </tr>\n",
       "    <tr>\n",
       "      <th>1</th>\n",
       "      <td>Salman</td>\n",
       "      <td>Married</td>\n",
       "      <td>23</td>\n",
       "      <td>Maths</td>\n",
       "    </tr>\n",
       "    <tr>\n",
       "      <th>2</th>\n",
       "      <td>Tayo</td>\n",
       "      <td>Married</td>\n",
       "      <td>39</td>\n",
       "      <td>Biology</td>\n",
       "    </tr>\n",
       "    <tr>\n",
       "      <th>3</th>\n",
       "      <td>Olu</td>\n",
       "      <td>Single</td>\n",
       "      <td>54</td>\n",
       "      <td>Maths</td>\n",
       "    </tr>\n",
       "    <tr>\n",
       "      <th>4</th>\n",
       "      <td>Sofiyyah</td>\n",
       "      <td>Married</td>\n",
       "      <td>27</td>\n",
       "      <td>Biology</td>\n",
       "    </tr>\n",
       "    <tr>\n",
       "      <th>5</th>\n",
       "      <td>Iwa</td>\n",
       "      <td>Single</td>\n",
       "      <td>25</td>\n",
       "      <td>English</td>\n",
       "    </tr>\n",
       "    <tr>\n",
       "      <th>6</th>\n",
       "      <td>Lewa</td>\n",
       "      <td>Married</td>\n",
       "      <td>27</td>\n",
       "      <td>Maths</td>\n",
       "    </tr>\n",
       "    <tr>\n",
       "      <th>7</th>\n",
       "      <td>Ope</td>\n",
       "      <td>Single</td>\n",
       "      <td>28</td>\n",
       "      <td>Biology</td>\n",
       "    </tr>\n",
       "    <tr>\n",
       "      <th>8</th>\n",
       "      <td>Kunle</td>\n",
       "      <td>Single</td>\n",
       "      <td>29</td>\n",
       "      <td>Maths</td>\n",
       "    </tr>\n",
       "    <tr>\n",
       "      <th>9</th>\n",
       "      <td>Bilal</td>\n",
       "      <td>Single</td>\n",
       "      <td>30</td>\n",
       "      <td>Biology</td>\n",
       "    </tr>\n",
       "  </tbody>\n",
       "</table>\n",
       "</div>"
      ],
      "text/plain": [
       "       name relationship  Age Department\n",
       "0   Safwana       Single   15    English\n",
       "1    Salman      Married   23      Maths\n",
       "2      Tayo      Married   39    Biology\n",
       "3       Olu       Single   54      Maths\n",
       "4  Sofiyyah      Married   27    Biology\n",
       "5       Iwa       Single   25    English\n",
       "6      Lewa      Married   27      Maths\n",
       "7       Ope       Single   28    Biology\n",
       "8     Kunle       Single   29      Maths\n",
       "9     Bilal       Single   30    Biology"
      ]
     },
     "execution_count": 38,
     "metadata": {},
     "output_type": "execute_result"
    }
   ],
   "source": [
    "import pandas as pd\n",
    "import numpy as np\n",
    "Student = {'name':['Safwana','Salman','Tayo','Olu','Sofiyyah','Iwa','Lewa','Ope','Kunle','Bilal'],\n",
    "           'relationship':['Single','Married','Married','Single','Married','Single','Married','Single','Single','Single'],\n",
    "           'Age':[15, 23, 39, 54, 27, 25, 27, 28, 29, 30,],\n",
    "           'Department':['English','Maths','Biology','Maths','Biology','English','Maths','Biology','Maths','Biology']\n",
    "          }\n",
    "Studentser=pd.DataFrame(Student)\n",
    "Studentser\n",
    "\n",
    "\n",
    "\n",
    "#Studentser['CGPA'] = [3.5, 4.0, 4.2, 3.8, 2.6, 2.9, 3.0, 3.9, 4.5, 4.6 ]\n",
    "#Studentser\n"
   ]
  },
  {
   "cell_type": "code",
   "execution_count": 39,
   "id": "ba8cae31",
   "metadata": {},
   "outputs": [
    {
     "data": {
      "text/html": [
       "<div>\n",
       "<style scoped>\n",
       "    .dataframe tbody tr th:only-of-type {\n",
       "        vertical-align: middle;\n",
       "    }\n",
       "\n",
       "    .dataframe tbody tr th {\n",
       "        vertical-align: top;\n",
       "    }\n",
       "\n",
       "    .dataframe thead th {\n",
       "        text-align: right;\n",
       "    }\n",
       "</style>\n",
       "<table border=\"1\" class=\"dataframe\">\n",
       "  <thead>\n",
       "    <tr style=\"text-align: right;\">\n",
       "      <th></th>\n",
       "      <th>name</th>\n",
       "      <th>relationship</th>\n",
       "      <th>Age</th>\n",
       "      <th>Department</th>\n",
       "      <th>CGPA</th>\n",
       "    </tr>\n",
       "  </thead>\n",
       "  <tbody>\n",
       "    <tr>\n",
       "      <th>0</th>\n",
       "      <td>Safwana</td>\n",
       "      <td>Single</td>\n",
       "      <td>15</td>\n",
       "      <td>English</td>\n",
       "      <td>3.5</td>\n",
       "    </tr>\n",
       "    <tr>\n",
       "      <th>1</th>\n",
       "      <td>Salman</td>\n",
       "      <td>Married</td>\n",
       "      <td>23</td>\n",
       "      <td>Maths</td>\n",
       "      <td>4.0</td>\n",
       "    </tr>\n",
       "    <tr>\n",
       "      <th>2</th>\n",
       "      <td>Tayo</td>\n",
       "      <td>Married</td>\n",
       "      <td>39</td>\n",
       "      <td>Biology</td>\n",
       "      <td>4.2</td>\n",
       "    </tr>\n",
       "    <tr>\n",
       "      <th>3</th>\n",
       "      <td>Olu</td>\n",
       "      <td>Single</td>\n",
       "      <td>54</td>\n",
       "      <td>Maths</td>\n",
       "      <td>3.8</td>\n",
       "    </tr>\n",
       "    <tr>\n",
       "      <th>4</th>\n",
       "      <td>Sofiyyah</td>\n",
       "      <td>Married</td>\n",
       "      <td>27</td>\n",
       "      <td>Biology</td>\n",
       "      <td>2.6</td>\n",
       "    </tr>\n",
       "    <tr>\n",
       "      <th>5</th>\n",
       "      <td>Iwa</td>\n",
       "      <td>Single</td>\n",
       "      <td>25</td>\n",
       "      <td>English</td>\n",
       "      <td>2.9</td>\n",
       "    </tr>\n",
       "    <tr>\n",
       "      <th>6</th>\n",
       "      <td>Lewa</td>\n",
       "      <td>Married</td>\n",
       "      <td>27</td>\n",
       "      <td>Maths</td>\n",
       "      <td>3.0</td>\n",
       "    </tr>\n",
       "    <tr>\n",
       "      <th>7</th>\n",
       "      <td>Ope</td>\n",
       "      <td>Single</td>\n",
       "      <td>28</td>\n",
       "      <td>Biology</td>\n",
       "      <td>3.9</td>\n",
       "    </tr>\n",
       "    <tr>\n",
       "      <th>8</th>\n",
       "      <td>Kunle</td>\n",
       "      <td>Single</td>\n",
       "      <td>29</td>\n",
       "      <td>Maths</td>\n",
       "      <td>4.5</td>\n",
       "    </tr>\n",
       "    <tr>\n",
       "      <th>9</th>\n",
       "      <td>Bilal</td>\n",
       "      <td>Single</td>\n",
       "      <td>30</td>\n",
       "      <td>Biology</td>\n",
       "      <td>4.6</td>\n",
       "    </tr>\n",
       "  </tbody>\n",
       "</table>\n",
       "</div>"
      ],
      "text/plain": [
       "       name relationship  Age Department  CGPA\n",
       "0   Safwana       Single   15    English   3.5\n",
       "1    Salman      Married   23      Maths   4.0\n",
       "2      Tayo      Married   39    Biology   4.2\n",
       "3       Olu       Single   54      Maths   3.8\n",
       "4  Sofiyyah      Married   27    Biology   2.6\n",
       "5       Iwa       Single   25    English   2.9\n",
       "6      Lewa      Married   27      Maths   3.0\n",
       "7       Ope       Single   28    Biology   3.9\n",
       "8     Kunle       Single   29      Maths   4.5\n",
       "9     Bilal       Single   30    Biology   4.6"
      ]
     },
     "execution_count": 39,
     "metadata": {},
     "output_type": "execute_result"
    }
   ],
   "source": [
    "Studentser['CGPA'] = [3.5, 4.0, 4.2, 3.8, 2.6, 2.9, 3.0, 3.9, 4.5, 4.6 ]\n",
    "Studentser"
   ]
  },
  {
   "cell_type": "code",
   "execution_count": 40,
   "id": "3b227b69",
   "metadata": {},
   "outputs": [
    {
     "data": {
      "text/plain": [
       "0     Single\n",
       "1    Married\n",
       "2    Married\n",
       "3     Single\n",
       "4    Married\n",
       "5     Single\n",
       "6    Married\n",
       "7     Single\n",
       "8     Single\n",
       "9     Single\n",
       "Name: relationship, dtype: object"
      ]
     },
     "execution_count": 40,
     "metadata": {},
     "output_type": "execute_result"
    }
   ],
   "source": [
    "Studentser.pop('relationship')"
   ]
  },
  {
   "cell_type": "code",
   "execution_count": 1,
   "id": "6de5dd09",
   "metadata": {},
   "outputs": [],
   "source": [
    "import pandas as pd\n",
    "import numpy as np"
   ]
  },
  {
   "cell_type": "code",
   "execution_count": 2,
   "id": "3d820331",
   "metadata": {},
   "outputs": [],
   "source": [
    "import datetime as dt"
   ]
  },
  {
   "cell_type": "code",
   "execution_count": 3,
   "id": "aa3030bf",
   "metadata": {
    "scrolled": true
   },
   "outputs": [
    {
     "data": {
      "text/html": [
       "<div>\n",
       "<style scoped>\n",
       "    .dataframe tbody tr th:only-of-type {\n",
       "        vertical-align: middle;\n",
       "    }\n",
       "\n",
       "    .dataframe tbody tr th {\n",
       "        vertical-align: top;\n",
       "    }\n",
       "\n",
       "    .dataframe thead th {\n",
       "        text-align: right;\n",
       "    }\n",
       "</style>\n",
       "<table border=\"1\" class=\"dataframe\">\n",
       "  <thead>\n",
       "    <tr style=\"text-align: right;\">\n",
       "      <th></th>\n",
       "      <th>Name</th>\n",
       "      <th>Age</th>\n",
       "      <th>Department</th>\n",
       "      <th>Admission_date</th>\n",
       "      <th>Gender</th>\n",
       "    </tr>\n",
       "  </thead>\n",
       "  <tbody>\n",
       "    <tr>\n",
       "      <th>0</th>\n",
       "      <td>Safawana</td>\n",
       "      <td>15</td>\n",
       "      <td>English</td>\n",
       "      <td>2017-05-14 01:30</td>\n",
       "      <td>Female</td>\n",
       "    </tr>\n",
       "    <tr>\n",
       "      <th>1</th>\n",
       "      <td>Salman</td>\n",
       "      <td>23</td>\n",
       "      <td>Maths</td>\n",
       "      <td>2016-08-17 12:45</td>\n",
       "      <td>Male</td>\n",
       "    </tr>\n",
       "    <tr>\n",
       "      <th>2</th>\n",
       "      <td>Tayo</td>\n",
       "      <td>39</td>\n",
       "      <td>Biology</td>\n",
       "      <td>2021-06-22 12:40</td>\n",
       "      <td>Male</td>\n",
       "    </tr>\n",
       "    <tr>\n",
       "      <th>3</th>\n",
       "      <td>Olu</td>\n",
       "      <td>54</td>\n",
       "      <td>Maths</td>\n",
       "      <td>2020-04-19 02:50</td>\n",
       "      <td>Male</td>\n",
       "    </tr>\n",
       "    <tr>\n",
       "      <th>4</th>\n",
       "      <td>Sofiyyah</td>\n",
       "      <td>27</td>\n",
       "      <td>Biology</td>\n",
       "      <td>2021-03-23 02:30</td>\n",
       "      <td>Female</td>\n",
       "    </tr>\n",
       "    <tr>\n",
       "      <th>5</th>\n",
       "      <td>Iwa</td>\n",
       "      <td>25</td>\n",
       "      <td>English</td>\n",
       "      <td>2016-06-27 03:40</td>\n",
       "      <td>Female</td>\n",
       "    </tr>\n",
       "    <tr>\n",
       "      <th>6</th>\n",
       "      <td>Lewa</td>\n",
       "      <td>27</td>\n",
       "      <td>Maths</td>\n",
       "      <td>2015-08-28 01:25</td>\n",
       "      <td>Female</td>\n",
       "    </tr>\n",
       "    <tr>\n",
       "      <th>7</th>\n",
       "      <td>Ope</td>\n",
       "      <td>28</td>\n",
       "      <td>Biology</td>\n",
       "      <td>2019-07-23 02:15</td>\n",
       "      <td>Male</td>\n",
       "    </tr>\n",
       "    <tr>\n",
       "      <th>8</th>\n",
       "      <td>Kunle</td>\n",
       "      <td>29</td>\n",
       "      <td>Maths</td>\n",
       "      <td>2019-09-27 03:20</td>\n",
       "      <td>Male</td>\n",
       "    </tr>\n",
       "    <tr>\n",
       "      <th>9</th>\n",
       "      <td>Bilal</td>\n",
       "      <td>30</td>\n",
       "      <td>Biology</td>\n",
       "      <td>2020-09-12 01:29</td>\n",
       "      <td>Male</td>\n",
       "    </tr>\n",
       "  </tbody>\n",
       "</table>\n",
       "</div>"
      ],
      "text/plain": [
       "       Name  Age Department    Admission_date  Gender\n",
       "0  Safawana   15    English  2017-05-14 01:30  Female\n",
       "1    Salman   23      Maths  2016-08-17 12:45    Male\n",
       "2      Tayo   39    Biology  2021-06-22 12:40    Male\n",
       "3       Olu   54      Maths  2020-04-19 02:50    Male\n",
       "4  Sofiyyah   27    Biology  2021-03-23 02:30  Female\n",
       "5       Iwa   25    English  2016-06-27 03:40  Female\n",
       "6      Lewa   27      Maths  2015-08-28 01:25  Female\n",
       "7       Ope   28    Biology  2019-07-23 02:15    Male\n",
       "8     Kunle   29      Maths  2019-09-27 03:20    Male\n",
       "9     Bilal   30    Biology  2020-09-12 01:29    Male"
      ]
     },
     "execution_count": 3,
     "metadata": {},
     "output_type": "execute_result"
    }
   ],
   "source": [
    "Name = ['Safawana','Salman' ,'Tayo' ,'Olu', 'Sofiyyah','Iwa', 'Lewa', 'Ope', 'Kunle', 'Bilal']\n",
    "Age = [15,23,39,54,27,25,27,28,29,30]\n",
    "Department = ['English', 'Maths', 'Biology', 'Maths', 'Biology', 'English', 'Maths', 'Biology', 'Maths','Biology']\n",
    "Admission_date = ['2017-05-14 01:30','2016-08-17 12:45', '2021-06-22 12:40', '2020-04-19 02:50', '2021-03-23 02:30' , '2016-06-27 03:40', '2015-08-28 01:25' , '2019-07-23 02:15', '2019-09-27 03:20', '2020-09-12 01:29']\n",
    "Gender = ['Female', 'Male', 'Male', 'Male','Female','Female','Female', 'Male', 'Male', 'Male']\n",
    "Student = pd.DataFrame({'Name': Name , 'Age':Age, 'Department':Department , 'Admission_date':Admission_date, 'Gender':Gender})\n",
    "Student"
   ]
  },
  {
   "cell_type": "code",
   "execution_count": 7,
   "id": "d766bd87",
   "metadata": {},
   "outputs": [],
   "source": [
    "Student['Admission_date'] = pd.to_datetime(Student['Admission_date'])"
   ]
  },
  {
   "cell_type": "code",
   "execution_count": 8,
   "id": "82e763e2",
   "metadata": {},
   "outputs": [
    {
     "data": {
      "text/html": [
       "<div>\n",
       "<style scoped>\n",
       "    .dataframe tbody tr th:only-of-type {\n",
       "        vertical-align: middle;\n",
       "    }\n",
       "\n",
       "    .dataframe tbody tr th {\n",
       "        vertical-align: top;\n",
       "    }\n",
       "\n",
       "    .dataframe thead th {\n",
       "        text-align: right;\n",
       "    }\n",
       "</style>\n",
       "<table border=\"1\" class=\"dataframe\">\n",
       "  <thead>\n",
       "    <tr style=\"text-align: right;\">\n",
       "      <th></th>\n",
       "      <th>Name</th>\n",
       "      <th>Age</th>\n",
       "      <th>Department</th>\n",
       "      <th>Admission_date</th>\n",
       "      <th>Gender</th>\n",
       "      <th>year</th>\n",
       "    </tr>\n",
       "  </thead>\n",
       "  <tbody>\n",
       "    <tr>\n",
       "      <th>0</th>\n",
       "      <td>Safawana</td>\n",
       "      <td>15</td>\n",
       "      <td>English</td>\n",
       "      <td>2017-05-14 01:30:00</td>\n",
       "      <td>Female</td>\n",
       "      <td>2017</td>\n",
       "    </tr>\n",
       "    <tr>\n",
       "      <th>1</th>\n",
       "      <td>Salman</td>\n",
       "      <td>23</td>\n",
       "      <td>Maths</td>\n",
       "      <td>2016-08-17 12:45:00</td>\n",
       "      <td>Male</td>\n",
       "      <td>2016</td>\n",
       "    </tr>\n",
       "    <tr>\n",
       "      <th>2</th>\n",
       "      <td>Tayo</td>\n",
       "      <td>39</td>\n",
       "      <td>Biology</td>\n",
       "      <td>2021-06-22 12:40:00</td>\n",
       "      <td>Male</td>\n",
       "      <td>2021</td>\n",
       "    </tr>\n",
       "    <tr>\n",
       "      <th>3</th>\n",
       "      <td>Olu</td>\n",
       "      <td>54</td>\n",
       "      <td>Maths</td>\n",
       "      <td>2020-04-19 02:50:00</td>\n",
       "      <td>Male</td>\n",
       "      <td>2020</td>\n",
       "    </tr>\n",
       "    <tr>\n",
       "      <th>4</th>\n",
       "      <td>Sofiyyah</td>\n",
       "      <td>27</td>\n",
       "      <td>Biology</td>\n",
       "      <td>2021-03-23 02:30:00</td>\n",
       "      <td>Female</td>\n",
       "      <td>2021</td>\n",
       "    </tr>\n",
       "    <tr>\n",
       "      <th>5</th>\n",
       "      <td>Iwa</td>\n",
       "      <td>25</td>\n",
       "      <td>English</td>\n",
       "      <td>2016-06-27 03:40:00</td>\n",
       "      <td>Female</td>\n",
       "      <td>2016</td>\n",
       "    </tr>\n",
       "    <tr>\n",
       "      <th>6</th>\n",
       "      <td>Lewa</td>\n",
       "      <td>27</td>\n",
       "      <td>Maths</td>\n",
       "      <td>2015-08-28 01:25:00</td>\n",
       "      <td>Female</td>\n",
       "      <td>2015</td>\n",
       "    </tr>\n",
       "    <tr>\n",
       "      <th>7</th>\n",
       "      <td>Ope</td>\n",
       "      <td>28</td>\n",
       "      <td>Biology</td>\n",
       "      <td>2019-07-23 02:15:00</td>\n",
       "      <td>Male</td>\n",
       "      <td>2019</td>\n",
       "    </tr>\n",
       "    <tr>\n",
       "      <th>8</th>\n",
       "      <td>Kunle</td>\n",
       "      <td>29</td>\n",
       "      <td>Maths</td>\n",
       "      <td>2019-09-27 03:20:00</td>\n",
       "      <td>Male</td>\n",
       "      <td>2019</td>\n",
       "    </tr>\n",
       "    <tr>\n",
       "      <th>9</th>\n",
       "      <td>Bilal</td>\n",
       "      <td>30</td>\n",
       "      <td>Biology</td>\n",
       "      <td>2020-09-12 01:29:00</td>\n",
       "      <td>Male</td>\n",
       "      <td>2020</td>\n",
       "    </tr>\n",
       "  </tbody>\n",
       "</table>\n",
       "</div>"
      ],
      "text/plain": [
       "       Name  Age Department      Admission_date  Gender  year\n",
       "0  Safawana   15    English 2017-05-14 01:30:00  Female  2017\n",
       "1    Salman   23      Maths 2016-08-17 12:45:00    Male  2016\n",
       "2      Tayo   39    Biology 2021-06-22 12:40:00    Male  2021\n",
       "3       Olu   54      Maths 2020-04-19 02:50:00    Male  2020\n",
       "4  Sofiyyah   27    Biology 2021-03-23 02:30:00  Female  2021\n",
       "5       Iwa   25    English 2016-06-27 03:40:00  Female  2016\n",
       "6      Lewa   27      Maths 2015-08-28 01:25:00  Female  2015\n",
       "7       Ope   28    Biology 2019-07-23 02:15:00    Male  2019\n",
       "8     Kunle   29      Maths 2019-09-27 03:20:00    Male  2019\n",
       "9     Bilal   30    Biology 2020-09-12 01:29:00    Male  2020"
      ]
     },
     "execution_count": 8,
     "metadata": {},
     "output_type": "execute_result"
    }
   ],
   "source": [
    "Student['year'] = Student['Admission_date'].dt.year\n",
    "Student"
   ]
  },
  {
   "cell_type": "code",
   "execution_count": 9,
   "id": "23f43aa8",
   "metadata": {},
   "outputs": [
    {
     "data": {
      "text/html": [
       "<div>\n",
       "<style scoped>\n",
       "    .dataframe tbody tr th:only-of-type {\n",
       "        vertical-align: middle;\n",
       "    }\n",
       "\n",
       "    .dataframe tbody tr th {\n",
       "        vertical-align: top;\n",
       "    }\n",
       "\n",
       "    .dataframe thead th {\n",
       "        text-align: right;\n",
       "    }\n",
       "</style>\n",
       "<table border=\"1\" class=\"dataframe\">\n",
       "  <thead>\n",
       "    <tr style=\"text-align: right;\">\n",
       "      <th></th>\n",
       "      <th>Name</th>\n",
       "      <th>Age</th>\n",
       "      <th>Department</th>\n",
       "      <th>Admission_date</th>\n",
       "      <th>Gender</th>\n",
       "      <th>year</th>\n",
       "      <th>month</th>\n",
       "    </tr>\n",
       "  </thead>\n",
       "  <tbody>\n",
       "    <tr>\n",
       "      <th>0</th>\n",
       "      <td>Safawana</td>\n",
       "      <td>15</td>\n",
       "      <td>English</td>\n",
       "      <td>2017-05-14 01:30:00</td>\n",
       "      <td>Female</td>\n",
       "      <td>2017</td>\n",
       "      <td>5</td>\n",
       "    </tr>\n",
       "    <tr>\n",
       "      <th>1</th>\n",
       "      <td>Salman</td>\n",
       "      <td>23</td>\n",
       "      <td>Maths</td>\n",
       "      <td>2016-08-17 12:45:00</td>\n",
       "      <td>Male</td>\n",
       "      <td>2016</td>\n",
       "      <td>8</td>\n",
       "    </tr>\n",
       "    <tr>\n",
       "      <th>2</th>\n",
       "      <td>Tayo</td>\n",
       "      <td>39</td>\n",
       "      <td>Biology</td>\n",
       "      <td>2021-06-22 12:40:00</td>\n",
       "      <td>Male</td>\n",
       "      <td>2021</td>\n",
       "      <td>6</td>\n",
       "    </tr>\n",
       "    <tr>\n",
       "      <th>3</th>\n",
       "      <td>Olu</td>\n",
       "      <td>54</td>\n",
       "      <td>Maths</td>\n",
       "      <td>2020-04-19 02:50:00</td>\n",
       "      <td>Male</td>\n",
       "      <td>2020</td>\n",
       "      <td>4</td>\n",
       "    </tr>\n",
       "    <tr>\n",
       "      <th>4</th>\n",
       "      <td>Sofiyyah</td>\n",
       "      <td>27</td>\n",
       "      <td>Biology</td>\n",
       "      <td>2021-03-23 02:30:00</td>\n",
       "      <td>Female</td>\n",
       "      <td>2021</td>\n",
       "      <td>3</td>\n",
       "    </tr>\n",
       "    <tr>\n",
       "      <th>5</th>\n",
       "      <td>Iwa</td>\n",
       "      <td>25</td>\n",
       "      <td>English</td>\n",
       "      <td>2016-06-27 03:40:00</td>\n",
       "      <td>Female</td>\n",
       "      <td>2016</td>\n",
       "      <td>6</td>\n",
       "    </tr>\n",
       "    <tr>\n",
       "      <th>6</th>\n",
       "      <td>Lewa</td>\n",
       "      <td>27</td>\n",
       "      <td>Maths</td>\n",
       "      <td>2015-08-28 01:25:00</td>\n",
       "      <td>Female</td>\n",
       "      <td>2015</td>\n",
       "      <td>8</td>\n",
       "    </tr>\n",
       "    <tr>\n",
       "      <th>7</th>\n",
       "      <td>Ope</td>\n",
       "      <td>28</td>\n",
       "      <td>Biology</td>\n",
       "      <td>2019-07-23 02:15:00</td>\n",
       "      <td>Male</td>\n",
       "      <td>2019</td>\n",
       "      <td>7</td>\n",
       "    </tr>\n",
       "    <tr>\n",
       "      <th>8</th>\n",
       "      <td>Kunle</td>\n",
       "      <td>29</td>\n",
       "      <td>Maths</td>\n",
       "      <td>2019-09-27 03:20:00</td>\n",
       "      <td>Male</td>\n",
       "      <td>2019</td>\n",
       "      <td>9</td>\n",
       "    </tr>\n",
       "    <tr>\n",
       "      <th>9</th>\n",
       "      <td>Bilal</td>\n",
       "      <td>30</td>\n",
       "      <td>Biology</td>\n",
       "      <td>2020-09-12 01:29:00</td>\n",
       "      <td>Male</td>\n",
       "      <td>2020</td>\n",
       "      <td>9</td>\n",
       "    </tr>\n",
       "  </tbody>\n",
       "</table>\n",
       "</div>"
      ],
      "text/plain": [
       "       Name  Age Department      Admission_date  Gender  year  month\n",
       "0  Safawana   15    English 2017-05-14 01:30:00  Female  2017      5\n",
       "1    Salman   23      Maths 2016-08-17 12:45:00    Male  2016      8\n",
       "2      Tayo   39    Biology 2021-06-22 12:40:00    Male  2021      6\n",
       "3       Olu   54      Maths 2020-04-19 02:50:00    Male  2020      4\n",
       "4  Sofiyyah   27    Biology 2021-03-23 02:30:00  Female  2021      3\n",
       "5       Iwa   25    English 2016-06-27 03:40:00  Female  2016      6\n",
       "6      Lewa   27      Maths 2015-08-28 01:25:00  Female  2015      8\n",
       "7       Ope   28    Biology 2019-07-23 02:15:00    Male  2019      7\n",
       "8     Kunle   29      Maths 2019-09-27 03:20:00    Male  2019      9\n",
       "9     Bilal   30    Biology 2020-09-12 01:29:00    Male  2020      9"
      ]
     },
     "execution_count": 9,
     "metadata": {},
     "output_type": "execute_result"
    }
   ],
   "source": [
    "Student['month'] = Student ['Admission_date'].dt.month\n",
    "Student"
   ]
  },
  {
   "cell_type": "code",
   "execution_count": 10,
   "id": "7fc777b0",
   "metadata": {},
   "outputs": [
    {
     "data": {
      "text/html": [
       "<div>\n",
       "<style scoped>\n",
       "    .dataframe tbody tr th:only-of-type {\n",
       "        vertical-align: middle;\n",
       "    }\n",
       "\n",
       "    .dataframe tbody tr th {\n",
       "        vertical-align: top;\n",
       "    }\n",
       "\n",
       "    .dataframe thead th {\n",
       "        text-align: right;\n",
       "    }\n",
       "</style>\n",
       "<table border=\"1\" class=\"dataframe\">\n",
       "  <thead>\n",
       "    <tr style=\"text-align: right;\">\n",
       "      <th></th>\n",
       "      <th>Name</th>\n",
       "      <th>Age</th>\n",
       "      <th>Department</th>\n",
       "      <th>Admission_date</th>\n",
       "      <th>Gender</th>\n",
       "      <th>year</th>\n",
       "      <th>month</th>\n",
       "      <th>day</th>\n",
       "    </tr>\n",
       "  </thead>\n",
       "  <tbody>\n",
       "    <tr>\n",
       "      <th>0</th>\n",
       "      <td>Safawana</td>\n",
       "      <td>15</td>\n",
       "      <td>English</td>\n",
       "      <td>2017-05-14 01:30:00</td>\n",
       "      <td>Female</td>\n",
       "      <td>2017</td>\n",
       "      <td>5</td>\n",
       "      <td>14</td>\n",
       "    </tr>\n",
       "    <tr>\n",
       "      <th>1</th>\n",
       "      <td>Salman</td>\n",
       "      <td>23</td>\n",
       "      <td>Maths</td>\n",
       "      <td>2016-08-17 12:45:00</td>\n",
       "      <td>Male</td>\n",
       "      <td>2016</td>\n",
       "      <td>8</td>\n",
       "      <td>17</td>\n",
       "    </tr>\n",
       "    <tr>\n",
       "      <th>2</th>\n",
       "      <td>Tayo</td>\n",
       "      <td>39</td>\n",
       "      <td>Biology</td>\n",
       "      <td>2021-06-22 12:40:00</td>\n",
       "      <td>Male</td>\n",
       "      <td>2021</td>\n",
       "      <td>6</td>\n",
       "      <td>22</td>\n",
       "    </tr>\n",
       "    <tr>\n",
       "      <th>3</th>\n",
       "      <td>Olu</td>\n",
       "      <td>54</td>\n",
       "      <td>Maths</td>\n",
       "      <td>2020-04-19 02:50:00</td>\n",
       "      <td>Male</td>\n",
       "      <td>2020</td>\n",
       "      <td>4</td>\n",
       "      <td>19</td>\n",
       "    </tr>\n",
       "    <tr>\n",
       "      <th>4</th>\n",
       "      <td>Sofiyyah</td>\n",
       "      <td>27</td>\n",
       "      <td>Biology</td>\n",
       "      <td>2021-03-23 02:30:00</td>\n",
       "      <td>Female</td>\n",
       "      <td>2021</td>\n",
       "      <td>3</td>\n",
       "      <td>23</td>\n",
       "    </tr>\n",
       "    <tr>\n",
       "      <th>5</th>\n",
       "      <td>Iwa</td>\n",
       "      <td>25</td>\n",
       "      <td>English</td>\n",
       "      <td>2016-06-27 03:40:00</td>\n",
       "      <td>Female</td>\n",
       "      <td>2016</td>\n",
       "      <td>6</td>\n",
       "      <td>27</td>\n",
       "    </tr>\n",
       "    <tr>\n",
       "      <th>6</th>\n",
       "      <td>Lewa</td>\n",
       "      <td>27</td>\n",
       "      <td>Maths</td>\n",
       "      <td>2015-08-28 01:25:00</td>\n",
       "      <td>Female</td>\n",
       "      <td>2015</td>\n",
       "      <td>8</td>\n",
       "      <td>28</td>\n",
       "    </tr>\n",
       "    <tr>\n",
       "      <th>7</th>\n",
       "      <td>Ope</td>\n",
       "      <td>28</td>\n",
       "      <td>Biology</td>\n",
       "      <td>2019-07-23 02:15:00</td>\n",
       "      <td>Male</td>\n",
       "      <td>2019</td>\n",
       "      <td>7</td>\n",
       "      <td>23</td>\n",
       "    </tr>\n",
       "    <tr>\n",
       "      <th>8</th>\n",
       "      <td>Kunle</td>\n",
       "      <td>29</td>\n",
       "      <td>Maths</td>\n",
       "      <td>2019-09-27 03:20:00</td>\n",
       "      <td>Male</td>\n",
       "      <td>2019</td>\n",
       "      <td>9</td>\n",
       "      <td>27</td>\n",
       "    </tr>\n",
       "    <tr>\n",
       "      <th>9</th>\n",
       "      <td>Bilal</td>\n",
       "      <td>30</td>\n",
       "      <td>Biology</td>\n",
       "      <td>2020-09-12 01:29:00</td>\n",
       "      <td>Male</td>\n",
       "      <td>2020</td>\n",
       "      <td>9</td>\n",
       "      <td>12</td>\n",
       "    </tr>\n",
       "  </tbody>\n",
       "</table>\n",
       "</div>"
      ],
      "text/plain": [
       "       Name  Age Department      Admission_date  Gender  year  month  day\n",
       "0  Safawana   15    English 2017-05-14 01:30:00  Female  2017      5   14\n",
       "1    Salman   23      Maths 2016-08-17 12:45:00    Male  2016      8   17\n",
       "2      Tayo   39    Biology 2021-06-22 12:40:00    Male  2021      6   22\n",
       "3       Olu   54      Maths 2020-04-19 02:50:00    Male  2020      4   19\n",
       "4  Sofiyyah   27    Biology 2021-03-23 02:30:00  Female  2021      3   23\n",
       "5       Iwa   25    English 2016-06-27 03:40:00  Female  2016      6   27\n",
       "6      Lewa   27      Maths 2015-08-28 01:25:00  Female  2015      8   28\n",
       "7       Ope   28    Biology 2019-07-23 02:15:00    Male  2019      7   23\n",
       "8     Kunle   29      Maths 2019-09-27 03:20:00    Male  2019      9   27\n",
       "9     Bilal   30    Biology 2020-09-12 01:29:00    Male  2020      9   12"
      ]
     },
     "execution_count": 10,
     "metadata": {},
     "output_type": "execute_result"
    }
   ],
   "source": [
    "Student['day'] = Student['Admission_date'].dt.day\n",
    "Student"
   ]
  },
  {
   "cell_type": "code",
   "execution_count": 11,
   "id": "140c3866",
   "metadata": {},
   "outputs": [
    {
     "data": {
      "text/plain": [
       "Name                      object\n",
       "Age                        int64\n",
       "Department                object\n",
       "Admission_date    datetime64[ns]\n",
       "Gender                    object\n",
       "year                       int64\n",
       "month                      int64\n",
       "day                        int64\n",
       "dtype: object"
      ]
     },
     "execution_count": 11,
     "metadata": {},
     "output_type": "execute_result"
    }
   ],
   "source": [
    "Student.dtypes"
   ]
  },
  {
   "cell_type": "code",
   "execution_count": 12,
   "id": "116a2ce5",
   "metadata": {},
   "outputs": [
    {
     "data": {
      "text/plain": [
       "Name              0\n",
       "Age               0\n",
       "Department        0\n",
       "Admission_date    0\n",
       "Gender            0\n",
       "year              0\n",
       "month             0\n",
       "day               0\n",
       "dtype: int64"
      ]
     },
     "execution_count": 12,
     "metadata": {},
     "output_type": "execute_result"
    }
   ],
   "source": [
    "Student.isna().sum()"
   ]
  },
  {
   "cell_type": "code",
   "execution_count": 13,
   "id": "e3854483",
   "metadata": {},
   "outputs": [
    {
     "data": {
      "text/plain": [
       "Name              0\n",
       "Age               0\n",
       "Department        0\n",
       "Admission_date    0\n",
       "Gender            0\n",
       "year              0\n",
       "month             0\n",
       "day               0\n",
       "dtype: int64"
      ]
     },
     "execution_count": 13,
     "metadata": {},
     "output_type": "execute_result"
    }
   ],
   "source": [
    "Student.isna().sum()*100"
   ]
  },
  {
   "cell_type": "code",
   "execution_count": 14,
   "id": "c9193210",
   "metadata": {},
   "outputs": [
    {
     "data": {
      "text/plain": [
       "array(['Safawana', 'Salman', 'Tayo', 'Olu', 'Sofiyyah', 'Iwa', 'Lewa',\n",
       "       'Ope', 'Kunle', 'Bilal'], dtype=object)"
      ]
     },
     "execution_count": 14,
     "metadata": {},
     "output_type": "execute_result"
    }
   ],
   "source": [
    "Student.Name.unique()"
   ]
  },
  {
   "cell_type": "code",
   "execution_count": 15,
   "id": "a2d4c844",
   "metadata": {},
   "outputs": [
    {
     "data": {
      "text/plain": [
       "array([15, 23, 39, 54, 27, 25, 28, 29, 30], dtype=int64)"
      ]
     },
     "execution_count": 15,
     "metadata": {},
     "output_type": "execute_result"
    }
   ],
   "source": [
    "Student.Age.unique()"
   ]
  },
  {
   "cell_type": "code",
   "execution_count": 16,
   "id": "da0d9802",
   "metadata": {},
   "outputs": [
    {
     "data": {
      "text/plain": [
       "array(['English', 'Maths', 'Biology'], dtype=object)"
      ]
     },
     "execution_count": 16,
     "metadata": {},
     "output_type": "execute_result"
    }
   ],
   "source": [
    "Student.Department.unique()"
   ]
  },
  {
   "cell_type": "code",
   "execution_count": 18,
   "id": "b7899566",
   "metadata": {},
   "outputs": [
    {
     "data": {
      "text/plain": [
       "array(['2017-05-14T01:30:00.000000000', '2016-08-17T12:45:00.000000000',\n",
       "       '2021-06-22T12:40:00.000000000', '2020-04-19T02:50:00.000000000',\n",
       "       '2021-03-23T02:30:00.000000000', '2016-06-27T03:40:00.000000000',\n",
       "       '2015-08-28T01:25:00.000000000', '2019-07-23T02:15:00.000000000',\n",
       "       '2019-09-27T03:20:00.000000000', '2020-09-12T01:29:00.000000000'],\n",
       "      dtype='datetime64[ns]')"
      ]
     },
     "execution_count": 18,
     "metadata": {},
     "output_type": "execute_result"
    }
   ],
   "source": [
    "Student.Admission_date.unique()"
   ]
  },
  {
   "cell_type": "code",
   "execution_count": 19,
   "id": "68468d2a",
   "metadata": {},
   "outputs": [
    {
     "data": {
      "text/plain": [
       "array(['Female', 'Male'], dtype=object)"
      ]
     },
     "execution_count": 19,
     "metadata": {},
     "output_type": "execute_result"
    }
   ],
   "source": [
    "Student.Gender.unique()"
   ]
  },
  {
   "cell_type": "code",
   "execution_count": 20,
   "id": "df6d4c0b",
   "metadata": {},
   "outputs": [
    {
     "data": {
      "text/plain": [
       "array([2017, 2016, 2021, 2020, 2015, 2019], dtype=int64)"
      ]
     },
     "execution_count": 20,
     "metadata": {},
     "output_type": "execute_result"
    }
   ],
   "source": [
    "Student.year.unique()"
   ]
  },
  {
   "cell_type": "code",
   "execution_count": 21,
   "id": "09d45a7d",
   "metadata": {},
   "outputs": [
    {
     "data": {
      "text/plain": [
       "array([5, 8, 6, 4, 3, 7, 9], dtype=int64)"
      ]
     },
     "execution_count": 21,
     "metadata": {},
     "output_type": "execute_result"
    }
   ],
   "source": [
    "Student.month.unique()"
   ]
  },
  {
   "cell_type": "code",
   "execution_count": 22,
   "id": "bc0f84f6",
   "metadata": {},
   "outputs": [
    {
     "data": {
      "text/plain": [
       "array([14, 17, 22, 19, 23, 27, 28, 12], dtype=int64)"
      ]
     },
     "execution_count": 22,
     "metadata": {},
     "output_type": "execute_result"
    }
   ],
   "source": [
    "Student.day.unique()"
   ]
  },
  {
   "cell_type": "code",
   "execution_count": 23,
   "id": "53b70efa",
   "metadata": {},
   "outputs": [
    {
     "data": {
      "text/plain": [
       "10"
      ]
     },
     "execution_count": 23,
     "metadata": {},
     "output_type": "execute_result"
    }
   ],
   "source": [
    "Student.Name.nunique()"
   ]
  },
  {
   "cell_type": "code",
   "execution_count": 24,
   "id": "51922f74",
   "metadata": {},
   "outputs": [
    {
     "data": {
      "text/plain": [
       "9"
      ]
     },
     "execution_count": 24,
     "metadata": {},
     "output_type": "execute_result"
    }
   ],
   "source": [
    "Student.Age.nunique()"
   ]
  },
  {
   "cell_type": "code",
   "execution_count": 25,
   "id": "2c0cbe39",
   "metadata": {},
   "outputs": [
    {
     "data": {
      "text/plain": [
       "3"
      ]
     },
     "execution_count": 25,
     "metadata": {},
     "output_type": "execute_result"
    }
   ],
   "source": [
    "Student.Department.nunique()"
   ]
  },
  {
   "cell_type": "code",
   "execution_count": 26,
   "id": "2d15637e",
   "metadata": {},
   "outputs": [
    {
     "data": {
      "text/plain": [
       "10"
      ]
     },
     "execution_count": 26,
     "metadata": {},
     "output_type": "execute_result"
    }
   ],
   "source": [
    "Student.Admission_date.nunique()"
   ]
  },
  {
   "cell_type": "code",
   "execution_count": 27,
   "id": "7894c77e",
   "metadata": {},
   "outputs": [
    {
     "data": {
      "text/plain": [
       "<bound method IndexOpsMixin.nunique of 0    2017\n",
       "1    2016\n",
       "2    2021\n",
       "3    2020\n",
       "4    2021\n",
       "5    2016\n",
       "6    2015\n",
       "7    2019\n",
       "8    2019\n",
       "9    2020\n",
       "Name: year, dtype: int64>"
      ]
     },
     "execution_count": 27,
     "metadata": {},
     "output_type": "execute_result"
    }
   ],
   "source": [
    "Student.year.nunique"
   ]
  },
  {
   "cell_type": "code",
   "execution_count": 28,
   "id": "1d6a2012",
   "metadata": {},
   "outputs": [
    {
     "data": {
      "text/plain": [
       "7"
      ]
     },
     "execution_count": 28,
     "metadata": {},
     "output_type": "execute_result"
    }
   ],
   "source": [
    "Student.month.nunique()"
   ]
  },
  {
   "cell_type": "code",
   "execution_count": 29,
   "id": "a059ea8f",
   "metadata": {},
   "outputs": [
    {
     "data": {
      "text/plain": [
       "8"
      ]
     },
     "execution_count": 29,
     "metadata": {},
     "output_type": "execute_result"
    }
   ],
   "source": [
    "Student.day.nunique()"
   ]
  },
  {
   "cell_type": "code",
   "execution_count": 30,
   "id": "34498a87",
   "metadata": {},
   "outputs": [
    {
     "data": {
      "text/plain": [
       "Safawana    1\n",
       "Salman      1\n",
       "Tayo        1\n",
       "Olu         1\n",
       "Sofiyyah    1\n",
       "Iwa         1\n",
       "Lewa        1\n",
       "Ope         1\n",
       "Kunle       1\n",
       "Bilal       1\n",
       "Name: Name, dtype: int64"
      ]
     },
     "execution_count": 30,
     "metadata": {},
     "output_type": "execute_result"
    }
   ],
   "source": [
    "Student.Name.value_counts()"
   ]
  },
  {
   "cell_type": "code",
   "execution_count": 31,
   "id": "7e001534",
   "metadata": {},
   "outputs": [
    {
     "data": {
      "text/plain": [
       "27    2\n",
       "15    1\n",
       "23    1\n",
       "39    1\n",
       "54    1\n",
       "25    1\n",
       "28    1\n",
       "29    1\n",
       "30    1\n",
       "Name: Age, dtype: int64"
      ]
     },
     "execution_count": 31,
     "metadata": {},
     "output_type": "execute_result"
    }
   ],
   "source": [
    "Student.Age.value_counts()"
   ]
  },
  {
   "cell_type": "code",
   "execution_count": 32,
   "id": "9f6117c9",
   "metadata": {},
   "outputs": [
    {
     "data": {
      "text/plain": [
       "Maths      4\n",
       "Biology    4\n",
       "English    2\n",
       "Name: Department, dtype: int64"
      ]
     },
     "execution_count": 32,
     "metadata": {},
     "output_type": "execute_result"
    }
   ],
   "source": [
    "Student.Department.value_counts()"
   ]
  },
  {
   "cell_type": "code",
   "execution_count": 33,
   "id": "6ccd4d5f",
   "metadata": {},
   "outputs": [
    {
     "data": {
      "text/plain": [
       "2017-05-14 01:30:00    1\n",
       "2016-08-17 12:45:00    1\n",
       "2021-06-22 12:40:00    1\n",
       "2020-04-19 02:50:00    1\n",
       "2021-03-23 02:30:00    1\n",
       "2016-06-27 03:40:00    1\n",
       "2015-08-28 01:25:00    1\n",
       "2019-07-23 02:15:00    1\n",
       "2019-09-27 03:20:00    1\n",
       "2020-09-12 01:29:00    1\n",
       "Name: Admission_date, dtype: int64"
      ]
     },
     "execution_count": 33,
     "metadata": {},
     "output_type": "execute_result"
    }
   ],
   "source": [
    "Student.Admission_date.value_counts()"
   ]
  },
  {
   "cell_type": "code",
   "execution_count": 34,
   "id": "45cabfcc",
   "metadata": {},
   "outputs": [
    {
     "name": "stdout",
     "output_type": "stream",
     "text": [
      "<class 'pandas.core.frame.DataFrame'>\n",
      "RangeIndex: 10 entries, 0 to 9\n",
      "Data columns (total 8 columns):\n",
      " #   Column          Non-Null Count  Dtype         \n",
      "---  ------          --------------  -----         \n",
      " 0   Name            10 non-null     object        \n",
      " 1   Age             10 non-null     int64         \n",
      " 2   Department      10 non-null     object        \n",
      " 3   Admission_date  10 non-null     datetime64[ns]\n",
      " 4   Gender          10 non-null     object        \n",
      " 5   year            10 non-null     int64         \n",
      " 6   month           10 non-null     int64         \n",
      " 7   day             10 non-null     int64         \n",
      "dtypes: datetime64[ns](1), int64(4), object(3)\n",
      "memory usage: 768.0+ bytes\n"
     ]
    }
   ],
   "source": [
    "Student.info()"
   ]
  },
  {
   "cell_type": "code",
   "execution_count": 35,
   "id": "a953500b",
   "metadata": {},
   "outputs": [
    {
     "data": {
      "text/html": [
       "<div>\n",
       "<style scoped>\n",
       "    .dataframe tbody tr th:only-of-type {\n",
       "        vertical-align: middle;\n",
       "    }\n",
       "\n",
       "    .dataframe tbody tr th {\n",
       "        vertical-align: top;\n",
       "    }\n",
       "\n",
       "    .dataframe thead th {\n",
       "        text-align: right;\n",
       "    }\n",
       "</style>\n",
       "<table border=\"1\" class=\"dataframe\">\n",
       "  <thead>\n",
       "    <tr style=\"text-align: right;\">\n",
       "      <th></th>\n",
       "      <th>Age</th>\n",
       "      <th>year</th>\n",
       "      <th>month</th>\n",
       "      <th>day</th>\n",
       "    </tr>\n",
       "  </thead>\n",
       "  <tbody>\n",
       "    <tr>\n",
       "      <th>count</th>\n",
       "      <td>10.000000</td>\n",
       "      <td>10.000000</td>\n",
       "      <td>10.000000</td>\n",
       "      <td>10.000000</td>\n",
       "    </tr>\n",
       "    <tr>\n",
       "      <th>mean</th>\n",
       "      <td>29.700000</td>\n",
       "      <td>2018.400000</td>\n",
       "      <td>6.500000</td>\n",
       "      <td>21.200000</td>\n",
       "    </tr>\n",
       "    <tr>\n",
       "      <th>std</th>\n",
       "      <td>10.424863</td>\n",
       "      <td>2.221111</td>\n",
       "      <td>2.068279</td>\n",
       "      <td>5.573748</td>\n",
       "    </tr>\n",
       "    <tr>\n",
       "      <th>min</th>\n",
       "      <td>15.000000</td>\n",
       "      <td>2015.000000</td>\n",
       "      <td>3.000000</td>\n",
       "      <td>12.000000</td>\n",
       "    </tr>\n",
       "    <tr>\n",
       "      <th>25%</th>\n",
       "      <td>25.500000</td>\n",
       "      <td>2016.250000</td>\n",
       "      <td>5.250000</td>\n",
       "      <td>17.500000</td>\n",
       "    </tr>\n",
       "    <tr>\n",
       "      <th>50%</th>\n",
       "      <td>27.500000</td>\n",
       "      <td>2019.000000</td>\n",
       "      <td>6.500000</td>\n",
       "      <td>22.500000</td>\n",
       "    </tr>\n",
       "    <tr>\n",
       "      <th>75%</th>\n",
       "      <td>29.750000</td>\n",
       "      <td>2020.000000</td>\n",
       "      <td>8.000000</td>\n",
       "      <td>26.000000</td>\n",
       "    </tr>\n",
       "    <tr>\n",
       "      <th>max</th>\n",
       "      <td>54.000000</td>\n",
       "      <td>2021.000000</td>\n",
       "      <td>9.000000</td>\n",
       "      <td>28.000000</td>\n",
       "    </tr>\n",
       "  </tbody>\n",
       "</table>\n",
       "</div>"
      ],
      "text/plain": [
       "             Age         year      month        day\n",
       "count  10.000000    10.000000  10.000000  10.000000\n",
       "mean   29.700000  2018.400000   6.500000  21.200000\n",
       "std    10.424863     2.221111   2.068279   5.573748\n",
       "min    15.000000  2015.000000   3.000000  12.000000\n",
       "25%    25.500000  2016.250000   5.250000  17.500000\n",
       "50%    27.500000  2019.000000   6.500000  22.500000\n",
       "75%    29.750000  2020.000000   8.000000  26.000000\n",
       "max    54.000000  2021.000000   9.000000  28.000000"
      ]
     },
     "execution_count": 35,
     "metadata": {},
     "output_type": "execute_result"
    }
   ],
   "source": [
    "Student.describe()"
   ]
  },
  {
   "cell_type": "code",
   "execution_count": 37,
   "id": "4a5eb382",
   "metadata": {},
   "outputs": [
    {
     "data": {
      "text/plain": [
       "(10, 8)"
      ]
     },
     "execution_count": 37,
     "metadata": {},
     "output_type": "execute_result"
    }
   ],
   "source": [
    "Student.shape"
   ]
  },
  {
   "cell_type": "code",
   "execution_count": 41,
   "id": "7c760871",
   "metadata": {},
   "outputs": [
    {
     "data": {
      "text/plain": [
       "2.6"
      ]
     },
     "execution_count": 41,
     "metadata": {},
     "output_type": "execute_result"
    }
   ],
   "source": [
    "Studentser['CGPA'].min()"
   ]
  },
  {
   "cell_type": "code",
   "execution_count": 42,
   "id": "aa21cc06",
   "metadata": {},
   "outputs": [
    {
     "data": {
      "text/plain": [
       "4.6"
      ]
     },
     "execution_count": 42,
     "metadata": {},
     "output_type": "execute_result"
    }
   ],
   "source": [
    "Studentser['CGPA'].max()"
   ]
  },
  {
   "cell_type": "code",
   "execution_count": 43,
   "id": "e4362ccc",
   "metadata": {},
   "outputs": [
    {
     "data": {
      "text/plain": [
       "3.7"
      ]
     },
     "execution_count": 43,
     "metadata": {},
     "output_type": "execute_result"
    }
   ],
   "source": [
    "Studentser['CGPA'].mean()"
   ]
  },
  {
   "cell_type": "code",
   "execution_count": 44,
   "id": "9f4be3ec",
   "metadata": {},
   "outputs": [
    {
     "data": {
      "text/plain": [
       "37.0"
      ]
     },
     "execution_count": 44,
     "metadata": {},
     "output_type": "execute_result"
    }
   ],
   "source": [
    "Studentser['CGPA'].sum()"
   ]
  },
  {
   "cell_type": "code",
   "execution_count": 5,
   "id": "a06d4e5e",
   "metadata": {},
   "outputs": [],
   "source": [
    "Gender = Student.groupby('Gender')"
   ]
  },
  {
   "cell_type": "code",
   "execution_count": 9,
   "id": "3b92f898",
   "metadata": {},
   "outputs": [
    {
     "data": {
      "text/html": [
       "<div>\n",
       "<style scoped>\n",
       "    .dataframe tbody tr th:only-of-type {\n",
       "        vertical-align: middle;\n",
       "    }\n",
       "\n",
       "    .dataframe tbody tr th {\n",
       "        vertical-align: top;\n",
       "    }\n",
       "\n",
       "    .dataframe thead th {\n",
       "        text-align: right;\n",
       "    }\n",
       "</style>\n",
       "<table border=\"1\" class=\"dataframe\">\n",
       "  <thead>\n",
       "    <tr style=\"text-align: right;\">\n",
       "      <th></th>\n",
       "      <th>Name</th>\n",
       "      <th>Age</th>\n",
       "      <th>Department</th>\n",
       "      <th>Admission_date</th>\n",
       "      <th>Gender</th>\n",
       "    </tr>\n",
       "  </thead>\n",
       "  <tbody>\n",
       "    <tr>\n",
       "      <th>0</th>\n",
       "      <td>Safawana</td>\n",
       "      <td>15</td>\n",
       "      <td>English</td>\n",
       "      <td>2017-05-14 01:30</td>\n",
       "      <td>Female</td>\n",
       "    </tr>\n",
       "    <tr>\n",
       "      <th>1</th>\n",
       "      <td>Salman</td>\n",
       "      <td>23</td>\n",
       "      <td>Maths</td>\n",
       "      <td>2016-08-17 12:45</td>\n",
       "      <td>Male</td>\n",
       "    </tr>\n",
       "    <tr>\n",
       "      <th>2</th>\n",
       "      <td>Tayo</td>\n",
       "      <td>39</td>\n",
       "      <td>Biology</td>\n",
       "      <td>2021-06-22 12:40</td>\n",
       "      <td>Male</td>\n",
       "    </tr>\n",
       "    <tr>\n",
       "      <th>3</th>\n",
       "      <td>Olu</td>\n",
       "      <td>54</td>\n",
       "      <td>Maths</td>\n",
       "      <td>2020-04-19 02:50</td>\n",
       "      <td>Male</td>\n",
       "    </tr>\n",
       "    <tr>\n",
       "      <th>4</th>\n",
       "      <td>Sofiyyah</td>\n",
       "      <td>27</td>\n",
       "      <td>Biology</td>\n",
       "      <td>2021-03-23 02:30</td>\n",
       "      <td>Female</td>\n",
       "    </tr>\n",
       "    <tr>\n",
       "      <th>5</th>\n",
       "      <td>Iwa</td>\n",
       "      <td>25</td>\n",
       "      <td>English</td>\n",
       "      <td>2016-06-27 03:40</td>\n",
       "      <td>Female</td>\n",
       "    </tr>\n",
       "    <tr>\n",
       "      <th>6</th>\n",
       "      <td>Lewa</td>\n",
       "      <td>27</td>\n",
       "      <td>Maths</td>\n",
       "      <td>2015-08-28 01:25</td>\n",
       "      <td>Female</td>\n",
       "    </tr>\n",
       "    <tr>\n",
       "      <th>7</th>\n",
       "      <td>Ope</td>\n",
       "      <td>28</td>\n",
       "      <td>Biology</td>\n",
       "      <td>2019-07-23 02:15</td>\n",
       "      <td>Male</td>\n",
       "    </tr>\n",
       "    <tr>\n",
       "      <th>8</th>\n",
       "      <td>Kunle</td>\n",
       "      <td>29</td>\n",
       "      <td>Maths</td>\n",
       "      <td>2019-09-27 03:20</td>\n",
       "      <td>Male</td>\n",
       "    </tr>\n",
       "    <tr>\n",
       "      <th>9</th>\n",
       "      <td>Bilal</td>\n",
       "      <td>30</td>\n",
       "      <td>Biology</td>\n",
       "      <td>2020-09-12 01:29</td>\n",
       "      <td>Male</td>\n",
       "    </tr>\n",
       "  </tbody>\n",
       "</table>\n",
       "</div>"
      ],
      "text/plain": [
       "       Name  Age Department    Admission_date  Gender\n",
       "0  Safawana   15    English  2017-05-14 01:30  Female\n",
       "1    Salman   23      Maths  2016-08-17 12:45    Male\n",
       "2      Tayo   39    Biology  2021-06-22 12:40    Male\n",
       "3       Olu   54      Maths  2020-04-19 02:50    Male\n",
       "4  Sofiyyah   27    Biology  2021-03-23 02:30  Female\n",
       "5       Iwa   25    English  2016-06-27 03:40  Female\n",
       "6      Lewa   27      Maths  2015-08-28 01:25  Female\n",
       "7       Ope   28    Biology  2019-07-23 02:15    Male\n",
       "8     Kunle   29      Maths  2019-09-27 03:20    Male\n",
       "9     Bilal   30    Biology  2020-09-12 01:29    Male"
      ]
     },
     "execution_count": 9,
     "metadata": {},
     "output_type": "execute_result"
    }
   ],
   "source": [
    "Student.to_csv('Student.csv', index = False)\n",
    "pd.read_csv('Student.csv')"
   ]
  },
  {
   "cell_type": "code",
   "execution_count": null,
   "id": "060d87f3",
   "metadata": {},
   "outputs": [],
   "source": []
  }
 ],
 "metadata": {
  "kernelspec": {
   "display_name": "Python 3 (ipykernel)",
   "language": "python",
   "name": "python3"
  },
  "language_info": {
   "codemirror_mode": {
    "name": "ipython",
    "version": 3
   },
   "file_extension": ".py",
   "mimetype": "text/x-python",
   "name": "python",
   "nbconvert_exporter": "python",
   "pygments_lexer": "ipython3",
   "version": "3.9.7"
  }
 },
 "nbformat": 4,
 "nbformat_minor": 5
}
